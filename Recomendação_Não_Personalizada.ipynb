{
  "cells": [
    {
      "cell_type": "markdown",
      "metadata": {
        "id": "y0xocXpOp2QB"
      },
      "source": [
        "### Importar base de dados e instalar framework de recomendação"
      ]
    },
    {
      "cell_type": "markdown",
      "metadata": {
        "id": "aYRhN3GYp2QO"
      },
      "source": [
        "### Importar bibliotecas"
      ]
    },
    {
      "cell_type": "code",
      "execution_count": null,
      "metadata": {
        "id": "gXu6ZhWDp2QE"
      },
      "outputs": [],
      "source": [
        "! wget https://github.com/mmanzato/MBABigData/raw/master/ml-20m-compact.tar.gz\n",
        "! tar -xvzf ml-20m-compact.tar.gz\n",
        "! pip install caserecommender"
      ]
    },
    {
      "cell_type": "code",
      "execution_count": null,
      "metadata": {
        "id": "MqgnlqsLp2QP"
      },
      "outputs": [],
      "source": [
        "import pandas as pd\n",
        "import numpy as np"
      ]
    },
    {
      "cell_type": "markdown",
      "metadata": {
        "id": "LQODRAP5p2QY"
      },
      "source": [
        "### Explorar Dados"
      ]
    },
    {
      "cell_type": "code",
      "execution_count": null,
      "metadata": {
        "id": "vraDuP8Hp2QZ"
      },
      "outputs": [],
      "source": [
        "movies = pd.read_csv('./dataset/movies_sample.csv')\n",
        "movies.tail()"
      ]
    },
    {
      "cell_type": "code",
      "execution_count": null,
      "metadata": {
        "id": "Y3GWuHwSp2Qg"
      },
      "outputs": [],
      "source": [
        "ratings = pd.read_csv('./dataset/ratings_sample.csv')\n",
        "ratings.head()"
      ]
    },
    {
      "cell_type": "code",
      "execution_count": null,
      "metadata": {
        "id": "QdmnQ42Ep2Ql"
      },
      "outputs": [],
      "source": [
        "ratings.rating.value_counts().plot(kind='bar', color=['r', 'g', 'y', 'c', 'b']);"
      ]
    },
    {
      "cell_type": "code",
      "execution_count": null,
      "metadata": {
        "id": "1VK8tadsp2Qp"
      },
      "outputs": [],
      "source": [
        "df = ratings[['userId', 'movieId', 'rating']]\n",
        "df.tail()"
      ]
    },
    {
      "cell_type": "code",
      "execution_count": null,
      "metadata": {
        "id": "qmfmBkdep2Qs"
      },
      "outputs": [],
      "source": [
        "df = df.merge(movies[['movieId', 'title']])\n",
        "df.head()"
      ]
    },
    {
      "cell_type": "markdown",
      "metadata": {
        "id": "vkgi6EY8p2Q0"
      },
      "source": [
        "### Números de usuários e número de itens"
      ]
    },
    {
      "cell_type": "code",
      "execution_count": null,
      "metadata": {
        "id": "Oqm9TqFUp2Q0"
      },
      "outputs": [],
      "source": [
        "print(\n",
        "\"\"\"\n",
        "Número de usuários: {}\n",
        "Número de itens: {}\n",
        "Número de interações: {}\n",
        "\"\"\".format(\n",
        "    df.userId.nunique(),\n",
        "    df.movieId.nunique(),\n",
        "    df.shape[0]\n",
        ")\n",
        ")"
      ]
    },
    {
      "cell_type": "markdown",
      "metadata": {
        "id": "9oUxIUefp2Q4"
      },
      "source": [
        "### Mapeamento em idx"
      ]
    },
    {
      "cell_type": "code",
      "execution_count": null,
      "metadata": {
        "id": "_xDUH3kbp2Q4"
      },
      "outputs": [],
      "source": [
        "map_users = {user: idx for idx, user in enumerate(df.userId.unique())}\n",
        "map_items = {item: idx for idx, item in enumerate(df.movieId.unique())}"
      ]
    },
    {
      "cell_type": "code",
      "execution_count": null,
      "metadata": {
        "id": "kqkGY2php2Q8"
      },
      "outputs": [],
      "source": [
        "df['userId'] = df['userId'].map(map_users)\n",
        "df['movieId'] = df['movieId'].map(map_items)\n",
        "df.head()"
      ]
    },
    {
      "cell_type": "code",
      "execution_count": null,
      "metadata": {
        "id": "StWvDa5Gp2Q_"
      },
      "outputs": [],
      "source": [
        "map_title = {}\n",
        "\n",
        "for _, row in df.iterrows():\n",
        "    map_title[row.movieId] = row.title"
      ]
    },
    {
      "cell_type": "code",
      "execution_count": null,
      "metadata": {
        "id": "XLTWg-F9p2RD"
      },
      "outputs": [],
      "source": [
        "print(len(map_title))\n",
        "print(map_title[100])"
      ]
    },
    {
      "cell_type": "code",
      "execution_count": null,
      "metadata": {
        "id": "35C82h7op2RH"
      },
      "outputs": [],
      "source": [
        "# qtd interações dos usuários\n",
        "df.groupby('userId').count()"
      ]
    },
    {
      "cell_type": "markdown",
      "metadata": {
        "id": "x8Ln0a1vp2RL"
      },
      "source": [
        "### Divisão do dataset"
      ]
    },
    {
      "cell_type": "code",
      "execution_count": null,
      "metadata": {
        "id": "9MsDESQ_p2RM"
      },
      "outputs": [],
      "source": [
        "from sklearn.model_selection import train_test_split"
      ]
    },
    {
      "cell_type": "code",
      "execution_count": null,
      "metadata": {
        "id": "rp0dxEd0p2RR"
      },
      "outputs": [],
      "source": [
        "train, test = train_test_split(df, test_size=.2, random_state=2)"
      ]
    },
    {
      "cell_type": "code",
      "execution_count": null,
      "metadata": {
        "id": "GpV8_YuQp2RU"
      },
      "outputs": [],
      "source": [
        "train.to_csv('train.txt', index=False, header=False, sep='\\t')\n",
        "test.to_csv('test.txt', index=False, header=False, sep='\\t')"
      ]
    },
    {
      "cell_type": "code",
      "execution_count": null,
      "metadata": {
        "id": "n6HTzcwsp2RX"
      },
      "outputs": [],
      "source": [
        "! ls -l"
      ]
    },
    {
      "cell_type": "code",
      "execution_count": null,
      "metadata": {
        "id": "RFZhUjCnp2Rb"
      },
      "outputs": [],
      "source": [
        "test.shape[0], train.shape[0]"
      ]
    },
    {
      "cell_type": "markdown",
      "metadata": {
        "id": "VVWZRptBp2Re"
      },
      "source": [
        "### Recomendadores"
      ]
    },
    {
      "cell_type": "markdown",
      "metadata": {
        "id": "ajH3hUALp2Re"
      },
      "source": [
        "## Prever notas"
      ]
    },
    {
      "cell_type": "code",
      "execution_count": null,
      "metadata": {
        "id": "foa1ePfOp2Rf"
      },
      "outputs": [],
      "source": [
        "from caserec.recommenders.rating_prediction.most_popular import MostPopular"
      ]
    },
    {
      "cell_type": "code",
      "execution_count": null,
      "metadata": {
        "id": "2ud84_kMp2Rh"
      },
      "outputs": [],
      "source": [
        "MostPopular('train.txt', 'test.txt', 'out_mp_pred.txt').compute()"
      ]
    },
    {
      "cell_type": "code",
      "execution_count": null,
      "metadata": {
        "id": "wESMpB0kp2Rk"
      },
      "outputs": [],
      "source": [
        "df_pred = pd.read_csv('out_mp_pred.txt', sep='\\t', names=['userId', 'movieId', 'pred'])\n",
        "df_pred.head()"
      ]
    },
    {
      "cell_type": "code",
      "execution_count": null,
      "metadata": {
        "id": "aGUl8yVyp2Rn"
      },
      "outputs": [],
      "source": [
        "test[test.userId == 0]"
      ]
    },
    {
      "cell_type": "code",
      "execution_count": null,
      "metadata": {
        "id": "x-VuIIi3p2Rp"
      },
      "outputs": [],
      "source": [
        "df_pred = df_pred.merge(test)"
      ]
    },
    {
      "cell_type": "code",
      "execution_count": null,
      "metadata": {
        "id": "PNYXk7pfp2Rs"
      },
      "outputs": [],
      "source": [
        "df_pred.rating.value_counts().plot(kind='bar')"
      ]
    },
    {
      "cell_type": "code",
      "execution_count": null,
      "metadata": {
        "id": "WCQJA5q8p2Rv"
      },
      "outputs": [],
      "source": [
        "df_pred['pred'] = round(df_pred['pred']*2)/2\n",
        "df_pred.pred.value_counts().plot(kind='bar');"
      ]
    },
    {
      "cell_type": "markdown",
      "metadata": {
        "id": "PwB7U14up2Ry"
      },
      "source": [
        "### Top N"
      ]
    },
    {
      "cell_type": "code",
      "execution_count": null,
      "metadata": {
        "id": "uOuJBF2lp2Rz"
      },
      "outputs": [],
      "source": [
        "from caserec.recommenders.item_recommendation.most_popular import MostPopular as MPR"
      ]
    },
    {
      "cell_type": "code",
      "execution_count": null,
      "metadata": {
        "id": "LbNmDiM3p2R2"
      },
      "outputs": [],
      "source": [
        "MPR('train.txt', 'test.txt', 'out_mp_pred.txt').compute()"
      ]
    },
    {
      "cell_type": "code",
      "execution_count": null,
      "metadata": {
        "id": "3-ir7MKYp2R4"
      },
      "outputs": [],
      "source": [
        "MPR('train.txt', 'test.txt', 'out_mp_pred_binary.txt', as_binary=True).compute()"
      ]
    },
    {
      "cell_type": "code",
      "execution_count": null,
      "metadata": {
        "id": "iTghJ5ndp2R7"
      },
      "outputs": [],
      "source": [
        "ranking = pd.read_csv('out_mp_pred.txt', sep='\\t', names=['user_id', 'movieId', 'score'])\n",
        "ranking['title'] = ranking.movieId.map(map_title)\n",
        "ranking.head(15)"
      ]
    },
    {
      "cell_type": "code",
      "execution_count": null,
      "metadata": {
        "id": "0nPtc26fp2R_"
      },
      "outputs": [],
      "source": [
        "ranking = pd.read_csv('out_mp_pred_binary.txt', sep='\\t', names=['userId', 'movieId', 'score'])\n",
        "ranking['title'] = ranking.movieId.map(map_title)\n",
        "ranking.head(15)"
      ]
    }
  ],
  "metadata": {
    "colab": {
      "machine_shape": "hm",
      "name": "Recomendação Não Personalizada.ipynb",
      "provenance": [],
      "collapsed_sections": []
    },
    "kernelspec": {
      "display_name": "Python 3",
      "language": "python",
      "name": "python3"
    },
    "language_info": {
      "codemirror_mode": {
        "name": "ipython",
        "version": 3
      },
      "file_extension": ".py",
      "mimetype": "text/x-python",
      "name": "python",
      "nbconvert_exporter": "python",
      "pygments_lexer": "ipython3",
      "version": "3.8.5"
    }
  },
  "nbformat": 4,
  "nbformat_minor": 0
}